{
 "cells": [
  {
   "cell_type": "code",
   "execution_count": 1,
   "metadata": {},
   "outputs": [],
   "source": [
    " import numpy as np"
   ]
  },
  {
   "cell_type": "code",
   "execution_count": 2,
   "metadata": {},
   "outputs": [],
   "source": [
    "import pandas as pd"
   ]
  },
  {
   "cell_type": "code",
   "execution_count": 3,
   "metadata": {},
   "outputs": [],
   "source": [
    "import matplotlib.pyplot as plt"
   ]
  },
  {
   "cell_type": "code",
   "execution_count": 4,
   "metadata": {},
   "outputs": [
     ]
    {
     
    }
   ],
   "source": [
    "import sklearn.metrices as sm"
   ]
  },
  {
   "cell_type": "code",
   "execution_count": 5,
   "metadata": {},
   "outputs": [],
   "source": [
    "import sklearn.metrics as sm\n"
   ]
  },
  {
   "cell_type": "code",
   "execution_count": 6,
   "metadata": {},
   "outputs": [],
   "source": [
    "%matplotlib inline"
   ]
  },
  {
   "cell_type": "code",
   "execution_count": 7,
   "metadata": {},
   "outputs": [
    {
     "ename": "SyntaxError",
     "evalue": "invalid syntax (<ipython-input-7-c1fed32d95c0>, line 1)",
     "output_type": "error",
     "traceback": [
      "\u001b[1;36m  File \u001b[1;32m\"<ipython-input-7-c1fed32d95c0>\"\u001b[1;36m, line \u001b[1;32m1\u001b[0m\n\u001b[1;33m    diabetes dataset = pd.read_csv('diabetes.csv')\u001b[0m\n\u001b[1;37m                   ^\u001b[0m\n\u001b[1;31mSyntaxError\u001b[0m\u001b[1;31m:\u001b[0m invalid syntax\n"
     ]
    }
   ],
   "source": [
    "diabetes dataset = pd.read_csv('diabetes.csv')"
   ]
  },
  {
   "cell_type": "code",
   "execution_count": 8,
   "metadata": {},
   "outputs": [],
   "source": [
    "diabetes_dataset = pd.read_csv('diabetes.csv')"
   ]
  },
  {
   "cell_type": "code",
   "execution_count": 9,
   "metadata": {},
   "outputs": [
    {
     "data": {
      "text/html": [
       "<div>\n",
       "<style scoped>\n",
       "    .dataframe tbody tr th:only-of-type {\n",
       "        vertical-align: middle;\n",
       "    }\n",
       "\n",
       "    .dataframe tbody tr th {\n",
       "        vertical-align: top;\n",
       "    }\n",
       "\n",
       "    .dataframe thead th {\n",
       "        text-align: right;\n",
       "    }\n",
       "</style>\n",
       "<table border=\"1\" class=\"dataframe\">\n",
       "  <thead>\n",
       "    <tr style=\"text-align: right;\">\n",
       "      <th></th>\n",
       "      <th>Pregnancies</th>\n",
       "      <th>Glucose</th>\n",
       "      <th>BloodPressure</th>\n",
       "      <th>SkinThickness</th>\n",
       "      <th>Insulin</th>\n",
       "      <th>BMI</th>\n",
       "      <th>DiabetesPedigreeFunction</th>\n",
       "      <th>Age</th>\n",
       "      <th>Outcome</th>\n",
       "    </tr>\n",
       "  </thead>\n",
       "  <tbody>\n",
       "    <tr>\n",
       "      <th>0</th>\n",
       "      <td>2</td>\n",
       "      <td>138</td>\n",
       "      <td>62</td>\n",
       "      <td>35</td>\n",
       "      <td>0</td>\n",
       "      <td>33.6</td>\n",
       "      <td>0.127</td>\n",
       "      <td>47</td>\n",
       "      <td>1</td>\n",
       "    </tr>\n",
       "    <tr>\n",
       "      <th>1</th>\n",
       "      <td>0</td>\n",
       "      <td>84</td>\n",
       "      <td>82</td>\n",
       "      <td>31</td>\n",
       "      <td>125</td>\n",
       "      <td>38.2</td>\n",
       "      <td>0.233</td>\n",
       "      <td>23</td>\n",
       "      <td>0</td>\n",
       "    </tr>\n",
       "    <tr>\n",
       "      <th>2</th>\n",
       "      <td>0</td>\n",
       "      <td>145</td>\n",
       "      <td>0</td>\n",
       "      <td>0</td>\n",
       "      <td>0</td>\n",
       "      <td>44.2</td>\n",
       "      <td>0.630</td>\n",
       "      <td>31</td>\n",
       "      <td>1</td>\n",
       "    </tr>\n",
       "    <tr>\n",
       "      <th>3</th>\n",
       "      <td>0</td>\n",
       "      <td>135</td>\n",
       "      <td>68</td>\n",
       "      <td>42</td>\n",
       "      <td>250</td>\n",
       "      <td>42.3</td>\n",
       "      <td>0.365</td>\n",
       "      <td>24</td>\n",
       "      <td>1</td>\n",
       "    </tr>\n",
       "    <tr>\n",
       "      <th>4</th>\n",
       "      <td>1</td>\n",
       "      <td>139</td>\n",
       "      <td>62</td>\n",
       "      <td>41</td>\n",
       "      <td>480</td>\n",
       "      <td>40.7</td>\n",
       "      <td>0.536</td>\n",
       "      <td>21</td>\n",
       "      <td>0</td>\n",
       "    </tr>\n",
       "    <tr>\n",
       "      <th>...</th>\n",
       "      <td>...</td>\n",
       "      <td>...</td>\n",
       "      <td>...</td>\n",
       "      <td>...</td>\n",
       "      <td>...</td>\n",
       "      <td>...</td>\n",
       "      <td>...</td>\n",
       "      <td>...</td>\n",
       "      <td>...</td>\n",
       "    </tr>\n",
       "    <tr>\n",
       "      <th>1995</th>\n",
       "      <td>2</td>\n",
       "      <td>75</td>\n",
       "      <td>64</td>\n",
       "      <td>24</td>\n",
       "      <td>55</td>\n",
       "      <td>29.7</td>\n",
       "      <td>0.370</td>\n",
       "      <td>33</td>\n",
       "      <td>0</td>\n",
       "    </tr>\n",
       "    <tr>\n",
       "      <th>1996</th>\n",
       "      <td>8</td>\n",
       "      <td>179</td>\n",
       "      <td>72</td>\n",
       "      <td>42</td>\n",
       "      <td>130</td>\n",
       "      <td>32.7</td>\n",
       "      <td>0.719</td>\n",
       "      <td>36</td>\n",
       "      <td>1</td>\n",
       "    </tr>\n",
       "    <tr>\n",
       "      <th>1997</th>\n",
       "      <td>6</td>\n",
       "      <td>85</td>\n",
       "      <td>78</td>\n",
       "      <td>0</td>\n",
       "      <td>0</td>\n",
       "      <td>31.2</td>\n",
       "      <td>0.382</td>\n",
       "      <td>42</td>\n",
       "      <td>0</td>\n",
       "    </tr>\n",
       "    <tr>\n",
       "      <th>1998</th>\n",
       "      <td>0</td>\n",
       "      <td>129</td>\n",
       "      <td>110</td>\n",
       "      <td>46</td>\n",
       "      <td>130</td>\n",
       "      <td>67.1</td>\n",
       "      <td>0.319</td>\n",
       "      <td>26</td>\n",
       "      <td>1</td>\n",
       "    </tr>\n",
       "    <tr>\n",
       "      <th>1999</th>\n",
       "      <td>2</td>\n",
       "      <td>81</td>\n",
       "      <td>72</td>\n",
       "      <td>15</td>\n",
       "      <td>76</td>\n",
       "      <td>30.1</td>\n",
       "      <td>0.547</td>\n",
       "      <td>25</td>\n",
       "      <td>0</td>\n",
       "    </tr>\n",
       "  </tbody>\n",
       "</table>\n",
       "<p>2000 rows × 9 columns</p>\n",
       "</div>"
      ],
      "text/plain": [
       "      Pregnancies  Glucose  BloodPressure  SkinThickness  Insulin   BMI  \\\n",
       "0               2      138             62             35        0  33.6   \n",
       "1               0       84             82             31      125  38.2   \n",
       "2               0      145              0              0        0  44.2   \n",
       "3               0      135             68             42      250  42.3   \n",
       "4               1      139             62             41      480  40.7   \n",
       "...           ...      ...            ...            ...      ...   ...   \n",
       "1995            2       75             64             24       55  29.7   \n",
       "1996            8      179             72             42      130  32.7   \n",
       "1997            6       85             78              0        0  31.2   \n",
       "1998            0      129            110             46      130  67.1   \n",
       "1999            2       81             72             15       76  30.1   \n",
       "\n",
       "      DiabetesPedigreeFunction  Age  Outcome  \n",
       "0                        0.127   47        1  \n",
       "1                        0.233   23        0  \n",
       "2                        0.630   31        1  \n",
       "3                        0.365   24        1  \n",
       "4                        0.536   21        0  \n",
       "...                        ...  ...      ...  \n",
       "1995                     0.370   33        0  \n",
       "1996                     0.719   36        1  \n",
       "1997                     0.382   42        0  \n",
       "1998                     0.319   26        1  \n",
       "1999                     0.547   25        0  \n",
       "\n",
       "[2000 rows x 9 columns]"
      ]
     },
     "execution_count": 9,
     "metadata": {},
     "output_type": "execute_result"
    }
   ],
   "source": [
    "diabetes_dataset"
   ]
  },
  {
   "cell_type": "code",
   "execution_count": 10,
   "metadata": {},
   "outputs": [
    {
     "data": {
      "text/html": [
       "<div>\n",
       "<style scoped>\n",
       "    .dataframe tbody tr th:only-of-type {\n",
       "        vertical-align: middle;\n",
       "    }\n",
       "\n",
       "    .dataframe tbody tr th {\n",
       "        vertical-align: top;\n",
       "    }\n",
       "\n",
       "    .dataframe thead th {\n",
       "        text-align: right;\n",
       "    }\n",
       "</style>\n",
       "<table border=\"1\" class=\"dataframe\">\n",
       "  <thead>\n",
       "    <tr style=\"text-align: right;\">\n",
       "      <th></th>\n",
       "      <th>Pregnancies</th>\n",
       "      <th>Glucose</th>\n",
       "      <th>BloodPressure</th>\n",
       "      <th>SkinThickness</th>\n",
       "      <th>Insulin</th>\n",
       "      <th>BMI</th>\n",
       "      <th>DiabetesPedigreeFunction</th>\n",
       "      <th>Age</th>\n",
       "      <th>Outcome</th>\n",
       "    </tr>\n",
       "  </thead>\n",
       "  <tbody>\n",
       "    <tr>\n",
       "      <th>count</th>\n",
       "      <td>2000.000000</td>\n",
       "      <td>2000.000000</td>\n",
       "      <td>2000.000000</td>\n",
       "      <td>2000.000000</td>\n",
       "      <td>2000.000000</td>\n",
       "      <td>2000.000000</td>\n",
       "      <td>2000.000000</td>\n",
       "      <td>2000.000000</td>\n",
       "      <td>2000.000000</td>\n",
       "    </tr>\n",
       "    <tr>\n",
       "      <th>mean</th>\n",
       "      <td>3.703500</td>\n",
       "      <td>121.182500</td>\n",
       "      <td>69.145500</td>\n",
       "      <td>20.935000</td>\n",
       "      <td>80.254000</td>\n",
       "      <td>32.193000</td>\n",
       "      <td>0.470930</td>\n",
       "      <td>33.090500</td>\n",
       "      <td>0.342000</td>\n",
       "    </tr>\n",
       "    <tr>\n",
       "      <th>std</th>\n",
       "      <td>3.306063</td>\n",
       "      <td>32.068636</td>\n",
       "      <td>19.188315</td>\n",
       "      <td>16.103243</td>\n",
       "      <td>111.180534</td>\n",
       "      <td>8.149901</td>\n",
       "      <td>0.323553</td>\n",
       "      <td>11.786423</td>\n",
       "      <td>0.474498</td>\n",
       "    </tr>\n",
       "    <tr>\n",
       "      <th>min</th>\n",
       "      <td>0.000000</td>\n",
       "      <td>0.000000</td>\n",
       "      <td>0.000000</td>\n",
       "      <td>0.000000</td>\n",
       "      <td>0.000000</td>\n",
       "      <td>0.000000</td>\n",
       "      <td>0.078000</td>\n",
       "      <td>21.000000</td>\n",
       "      <td>0.000000</td>\n",
       "    </tr>\n",
       "    <tr>\n",
       "      <th>25%</th>\n",
       "      <td>1.000000</td>\n",
       "      <td>99.000000</td>\n",
       "      <td>63.500000</td>\n",
       "      <td>0.000000</td>\n",
       "      <td>0.000000</td>\n",
       "      <td>27.375000</td>\n",
       "      <td>0.244000</td>\n",
       "      <td>24.000000</td>\n",
       "      <td>0.000000</td>\n",
       "    </tr>\n",
       "    <tr>\n",
       "      <th>50%</th>\n",
       "      <td>3.000000</td>\n",
       "      <td>117.000000</td>\n",
       "      <td>72.000000</td>\n",
       "      <td>23.000000</td>\n",
       "      <td>40.000000</td>\n",
       "      <td>32.300000</td>\n",
       "      <td>0.376000</td>\n",
       "      <td>29.000000</td>\n",
       "      <td>0.000000</td>\n",
       "    </tr>\n",
       "    <tr>\n",
       "      <th>75%</th>\n",
       "      <td>6.000000</td>\n",
       "      <td>141.000000</td>\n",
       "      <td>80.000000</td>\n",
       "      <td>32.000000</td>\n",
       "      <td>130.000000</td>\n",
       "      <td>36.800000</td>\n",
       "      <td>0.624000</td>\n",
       "      <td>40.000000</td>\n",
       "      <td>1.000000</td>\n",
       "    </tr>\n",
       "    <tr>\n",
       "      <th>max</th>\n",
       "      <td>17.000000</td>\n",
       "      <td>199.000000</td>\n",
       "      <td>122.000000</td>\n",
       "      <td>110.000000</td>\n",
       "      <td>744.000000</td>\n",
       "      <td>80.600000</td>\n",
       "      <td>2.420000</td>\n",
       "      <td>81.000000</td>\n",
       "      <td>1.000000</td>\n",
       "    </tr>\n",
       "  </tbody>\n",
       "</table>\n",
       "</div>"
      ],
      "text/plain": [
       "       Pregnancies      Glucose  BloodPressure  SkinThickness      Insulin  \\\n",
       "count  2000.000000  2000.000000    2000.000000    2000.000000  2000.000000   \n",
       "mean      3.703500   121.182500      69.145500      20.935000    80.254000   \n",
       "std       3.306063    32.068636      19.188315      16.103243   111.180534   \n",
       "min       0.000000     0.000000       0.000000       0.000000     0.000000   \n",
       "25%       1.000000    99.000000      63.500000       0.000000     0.000000   \n",
       "50%       3.000000   117.000000      72.000000      23.000000    40.000000   \n",
       "75%       6.000000   141.000000      80.000000      32.000000   130.000000   \n",
       "max      17.000000   199.000000     122.000000     110.000000   744.000000   \n",
       "\n",
       "               BMI  DiabetesPedigreeFunction          Age      Outcome  \n",
       "count  2000.000000               2000.000000  2000.000000  2000.000000  \n",
       "mean     32.193000                  0.470930    33.090500     0.342000  \n",
       "std       8.149901                  0.323553    11.786423     0.474498  \n",
       "min       0.000000                  0.078000    21.000000     0.000000  \n",
       "25%      27.375000                  0.244000    24.000000     0.000000  \n",
       "50%      32.300000                  0.376000    29.000000     0.000000  \n",
       "75%      36.800000                  0.624000    40.000000     1.000000  \n",
       "max      80.600000                  2.420000    81.000000     1.000000  "
      ]
     },
     "execution_count": 10,
     "metadata": {},
     "output_type": "execute_result"
    }
   ],
   "source": [
    "diabetes_dataset.describe()\n"
   ]
  },
  {
   "cell_type": "code",
   "execution_count": 11,
   "metadata": {},
   "outputs": [
    {
     "data": {
      "text/plain": [
       "0"
      ]
     },
     "execution_count": 11,
     "metadata": {},
     "output_type": "execute_result"
    }
   ],
   "source": [
    "sum(diabetes_dataset.isnull().sum())"
   ]
  },
  {
   "cell_type": "code",
   "execution_count": 12,
   "metadata": {},
   "outputs": [
    {
     "name": "stdout",
     "output_type": "stream",
     "text": [
      "<bound method DataFrame.sum of       Glucose  BloodPressure  SkinThickness  Insulin    BMI  \\\n",
      "0       False          False          False     True  False   \n",
      "1       False          False          False    False  False   \n",
      "2       False           True           True     True  False   \n",
      "3       False          False          False    False  False   \n",
      "4       False          False          False    False  False   \n",
      "...       ...            ...            ...      ...    ...   \n",
      "1995    False          False          False    False  False   \n",
      "1996    False          False          False    False  False   \n",
      "1997    False          False           True     True  False   \n",
      "1998    False          False          False    False  False   \n",
      "1999    False          False          False    False  False   \n",
      "\n",
      "      DiabetesPedigreeFunction    Age  \n",
      "0                        False  False  \n",
      "1                        False  False  \n",
      "2                        False  False  \n",
      "3                        False  False  \n",
      "4                        False  False  \n",
      "...                        ...    ...  \n",
      "1995                     False  False  \n",
      "1996                     False  False  \n",
      "1997                     False  False  \n",
      "1998                     False  False  \n",
      "1999                     False  False  \n",
      "\n",
      "[2000 rows x 7 columns]>\n"
     ]
    }
   ],
   "source": [
    "print((diabetes_dataset[['Glucose','BloodPressure','SkinThickness', 'Insulin', 'BMI','DiabetesPedigreeFunction','Age']]==0).sum())"
   ]
  },
  {
   "cell_type": "code",
   "execution_count": 13,
   "metadata": {},
   "outputs": [
    {
     "name": "stdout",
     "output_type": "stream",
     "text": [
      "Glucose                      13\n",
      "BloodPressure                90\n",
      "SkinThickness               573\n",
      "Insulin                     956\n",
      "BMI                          28\n",
      "DiabetesPedigreeFunction      0\n",
      "Age                           0\n",
      "dtype: int64\n"
     ]
    }
   ],
   "source": [
    "print((diabetes_dataset[['Glucose','BloodPressure','SkinThickness', 'Insulin', 'BMI','DiabetesPedigreeFunction','Age']]==0).sum())"
   ]
  },
  {
   "cell_type": "code",
   "execution_count": 14,
   "metadata": {},
   "outputs": [],
   "source": [
    "diabetes_dataset[['Glucose','BloodPressure','SkinThickness', 'Insulin', 'BMI','DiabetesPedigreeFunction','Age']]=diabetes_dataset[['Glucose','BloodPressure','SkinThickness', 'Insulin', 'BMI','DiabetesPedigreeFunction','Age']].replace(0,np.NaN)"
   ]
  },
  {
   "cell_type": "code",
   "execution_count": 15,
   "metadata": {},
   "outputs": [
    {
     "name": "stdout",
     "output_type": "stream",
     "text": [
      "Glucose                     0\n",
      "BloodPressure               0\n",
      "SkinThickness               0\n",
      "Insulin                     0\n",
      "BMI                         0\n",
      "DiabetesPedigreeFunction    0\n",
      "Age                         0\n",
      "dtype: int64\n"
     ]
    }
   ],
   "source": [
    "print((diabetes_dataset[['Glucose','BloodPressure','SkinThickness', 'Insulin', 'BMI','DiabetesPedigreeFunction','Age']]==0).sum())"
   ]
  },
  {
   "cell_type": "code",
   "execution_count": 16,
   "metadata": {},
   "outputs": [],
   "source": [
    "diabetes_dataset.fillna(diabetes_dataset.mean(), inplace = True)"
   ]
  },
  {
   "cell_type": "code",
   "execution_count": 17,
   "metadata": {},
   "outputs": [
    {
     "name": "stdout",
     "output_type": "stream",
     "text": [
      "Pregnancies                 0\n",
      "Glucose                     0\n",
      "BloodPressure               0\n",
      "SkinThickness               0\n",
      "Insulin                     0\n",
      "BMI                         0\n",
      "DiabetesPedigreeFunction    0\n",
      "Age                         0\n",
      "Outcome                     0\n",
      "dtype: int64\n"
     ]
    }
   ],
   "source": [
    "print(diabetes_dataset.isnull().sum())"
   ]
  },
  {
   "cell_type": "code",
   "execution_count": 18,
   "metadata": {},
   "outputs": [
    {
     "data": {
      "text/html": [
       "<div>\n",
       "<style scoped>\n",
       "    .dataframe tbody tr th:only-of-type {\n",
       "        vertical-align: middle;\n",
       "    }\n",
       "\n",
       "    .dataframe tbody tr th {\n",
       "        vertical-align: top;\n",
       "    }\n",
       "\n",
       "    .dataframe thead th {\n",
       "        text-align: right;\n",
       "    }\n",
       "</style>\n",
       "<table border=\"1\" class=\"dataframe\">\n",
       "  <thead>\n",
       "    <tr style=\"text-align: right;\">\n",
       "      <th></th>\n",
       "      <th>Pregnancies</th>\n",
       "      <th>Glucose</th>\n",
       "      <th>BloodPressure</th>\n",
       "      <th>SkinThickness</th>\n",
       "      <th>Insulin</th>\n",
       "      <th>BMI</th>\n",
       "      <th>DiabetesPedigreeFunction</th>\n",
       "      <th>Age</th>\n",
       "      <th>Outcome</th>\n",
       "    </tr>\n",
       "  </thead>\n",
       "  <tbody>\n",
       "    <tr>\n",
       "      <th>0</th>\n",
       "      <td>2</td>\n",
       "      <td>138.0</td>\n",
       "      <td>62.000000</td>\n",
       "      <td>35.000000</td>\n",
       "      <td>153.743295</td>\n",
       "      <td>33.6</td>\n",
       "      <td>0.127</td>\n",
       "      <td>47</td>\n",
       "      <td>1</td>\n",
       "    </tr>\n",
       "    <tr>\n",
       "      <th>1</th>\n",
       "      <td>0</td>\n",
       "      <td>84.0</td>\n",
       "      <td>82.000000</td>\n",
       "      <td>31.000000</td>\n",
       "      <td>125.000000</td>\n",
       "      <td>38.2</td>\n",
       "      <td>0.233</td>\n",
       "      <td>23</td>\n",
       "      <td>0</td>\n",
       "    </tr>\n",
       "    <tr>\n",
       "      <th>2</th>\n",
       "      <td>0</td>\n",
       "      <td>145.0</td>\n",
       "      <td>72.403665</td>\n",
       "      <td>29.341275</td>\n",
       "      <td>153.743295</td>\n",
       "      <td>44.2</td>\n",
       "      <td>0.630</td>\n",
       "      <td>31</td>\n",
       "      <td>1</td>\n",
       "    </tr>\n",
       "    <tr>\n",
       "      <th>3</th>\n",
       "      <td>0</td>\n",
       "      <td>135.0</td>\n",
       "      <td>68.000000</td>\n",
       "      <td>42.000000</td>\n",
       "      <td>250.000000</td>\n",
       "      <td>42.3</td>\n",
       "      <td>0.365</td>\n",
       "      <td>24</td>\n",
       "      <td>1</td>\n",
       "    </tr>\n",
       "    <tr>\n",
       "      <th>4</th>\n",
       "      <td>1</td>\n",
       "      <td>139.0</td>\n",
       "      <td>62.000000</td>\n",
       "      <td>41.000000</td>\n",
       "      <td>480.000000</td>\n",
       "      <td>40.7</td>\n",
       "      <td>0.536</td>\n",
       "      <td>21</td>\n",
       "      <td>0</td>\n",
       "    </tr>\n",
       "    <tr>\n",
       "      <th>...</th>\n",
       "      <td>...</td>\n",
       "      <td>...</td>\n",
       "      <td>...</td>\n",
       "      <td>...</td>\n",
       "      <td>...</td>\n",
       "      <td>...</td>\n",
       "      <td>...</td>\n",
       "      <td>...</td>\n",
       "      <td>...</td>\n",
       "    </tr>\n",
       "    <tr>\n",
       "      <th>1995</th>\n",
       "      <td>2</td>\n",
       "      <td>75.0</td>\n",
       "      <td>64.000000</td>\n",
       "      <td>24.000000</td>\n",
       "      <td>55.000000</td>\n",
       "      <td>29.7</td>\n",
       "      <td>0.370</td>\n",
       "      <td>33</td>\n",
       "      <td>0</td>\n",
       "    </tr>\n",
       "    <tr>\n",
       "      <th>1996</th>\n",
       "      <td>8</td>\n",
       "      <td>179.0</td>\n",
       "      <td>72.000000</td>\n",
       "      <td>42.000000</td>\n",
       "      <td>130.000000</td>\n",
       "      <td>32.7</td>\n",
       "      <td>0.719</td>\n",
       "      <td>36</td>\n",
       "      <td>1</td>\n",
       "    </tr>\n",
       "    <tr>\n",
       "      <th>1997</th>\n",
       "      <td>6</td>\n",
       "      <td>85.0</td>\n",
       "      <td>78.000000</td>\n",
       "      <td>29.341275</td>\n",
       "      <td>153.743295</td>\n",
       "      <td>31.2</td>\n",
       "      <td>0.382</td>\n",
       "      <td>42</td>\n",
       "      <td>0</td>\n",
       "    </tr>\n",
       "    <tr>\n",
       "      <th>1998</th>\n",
       "      <td>0</td>\n",
       "      <td>129.0</td>\n",
       "      <td>110.000000</td>\n",
       "      <td>46.000000</td>\n",
       "      <td>130.000000</td>\n",
       "      <td>67.1</td>\n",
       "      <td>0.319</td>\n",
       "      <td>26</td>\n",
       "      <td>1</td>\n",
       "    </tr>\n",
       "    <tr>\n",
       "      <th>1999</th>\n",
       "      <td>2</td>\n",
       "      <td>81.0</td>\n",
       "      <td>72.000000</td>\n",
       "      <td>15.000000</td>\n",
       "      <td>76.000000</td>\n",
       "      <td>30.1</td>\n",
       "      <td>0.547</td>\n",
       "      <td>25</td>\n",
       "      <td>0</td>\n",
       "    </tr>\n",
       "  </tbody>\n",
       "</table>\n",
       "<p>2000 rows × 9 columns</p>\n",
       "</div>"
      ],
      "text/plain": [
       "      Pregnancies  Glucose  BloodPressure  SkinThickness     Insulin   BMI  \\\n",
       "0               2    138.0      62.000000      35.000000  153.743295  33.6   \n",
       "1               0     84.0      82.000000      31.000000  125.000000  38.2   \n",
       "2               0    145.0      72.403665      29.341275  153.743295  44.2   \n",
       "3               0    135.0      68.000000      42.000000  250.000000  42.3   \n",
       "4               1    139.0      62.000000      41.000000  480.000000  40.7   \n",
       "...           ...      ...            ...            ...         ...   ...   \n",
       "1995            2     75.0      64.000000      24.000000   55.000000  29.7   \n",
       "1996            8    179.0      72.000000      42.000000  130.000000  32.7   \n",
       "1997            6     85.0      78.000000      29.341275  153.743295  31.2   \n",
       "1998            0    129.0     110.000000      46.000000  130.000000  67.1   \n",
       "1999            2     81.0      72.000000      15.000000   76.000000  30.1   \n",
       "\n",
       "      DiabetesPedigreeFunction  Age  Outcome  \n",
       "0                        0.127   47        1  \n",
       "1                        0.233   23        0  \n",
       "2                        0.630   31        1  \n",
       "3                        0.365   24        1  \n",
       "4                        0.536   21        0  \n",
       "...                        ...  ...      ...  \n",
       "1995                     0.370   33        0  \n",
       "1996                     0.719   36        1  \n",
       "1997                     0.382   42        0  \n",
       "1998                     0.319   26        1  \n",
       "1999                     0.547   25        0  \n",
       "\n",
       "[2000 rows x 9 columns]"
      ]
     },
     "execution_count": 18,
     "metadata": {},
     "output_type": "execute_result"
    }
   ],
   "source": [
    "diabetes_dataset"
   ]
  },
  {
   "cell_type": "code",
   "execution_count": 19,
   "metadata": {},
   "outputs": [],
   "source": [
    "from sklearn.preprocessing import LabelEncoder"
   ]
  },
  {
   "cell_type": "code",
   "execution_count": 20,
   "metadata": {},
   "outputs": [],
   "source": [
    "labelEncoder = LabelEncoder()"
   ]
  },
  {
   "cell_type": "code",
   "execution_count": 21,
   "metadata": {},
   "outputs": [],
   "source": [
    "dataTransform = diabetes_dataset.copy()"
   ]
  },
  {
   "cell_type": "code",
   "execution_count": 22,
   "metadata": {},
   "outputs": [
    {
     "ename": "NameError",
     "evalue": "name 'labelencoder' is not defined",
     "output_type": "error",
     "traceback": [
      "\u001b[1;31m---------------------------------------------------------------------------\u001b[0m",
      "\u001b[1;31mNameError\u001b[0m                                 Traceback (most recent call last)",
      "\u001b[1;32m<ipython-input-22-b71fe0724c84>\u001b[0m in \u001b[0;36m<module>\u001b[1;34m\u001b[0m\n\u001b[0;32m      1\u001b[0m \u001b[1;32mfor\u001b[0m \u001b[0mdata\u001b[0m \u001b[1;32min\u001b[0m \u001b[0mdiabetes_dataset\u001b[0m\u001b[1;33m.\u001b[0m\u001b[0mcolumns\u001b[0m\u001b[1;33m:\u001b[0m\u001b[1;33m\u001b[0m\u001b[1;33m\u001b[0m\u001b[0m\n\u001b[1;32m----> 2\u001b[1;33m     \u001b[0mdataTransform\u001b[0m \u001b[1;33m[\u001b[0m\u001b[0mdata\u001b[0m\u001b[1;33m]\u001b[0m \u001b[1;33m=\u001b[0m \u001b[0mlabelencoder\u001b[0m\u001b[1;33m.\u001b[0m\u001b[0mfit_transform\u001b[0m\u001b[1;33m(\u001b[0m\u001b[0mdiabetes_dataset\u001b[0m\u001b[1;33m[\u001b[0m\u001b[0mdata\u001b[0m\u001b[1;33m]\u001b[0m\u001b[1;33m)\u001b[0m\u001b[1;33m\u001b[0m\u001b[1;33m\u001b[0m\u001b[0m\n\u001b[0m",
      "\u001b[1;31mNameError\u001b[0m: name 'labelencoder' is not defined"
     ]
    }
   ],
   "source": [
    "for data in diabetes_dataset.columns:\n",
    "    dataTransform [data] = labelencoder.fit_transform(diabetes_dataset[data])"
   ]
  },
  {
   "cell_type": "code",
   "execution_count": 23,
   "metadata": {},
   "outputs": [],
   "source": [
    "for data in diabetes_dataset.columns:\n",
    "    dataTransform [data] = labelEncoder.fit_transform(diabetes_dataset[data])"
   ]
  },
  {
   "cell_type": "code",
   "execution_count": 24,
   "metadata": {},
   "outputs": [
    {
     "data": {
      "text/html": [
       "<div>\n",
       "<style scoped>\n",
       "    .dataframe tbody tr th:only-of-type {\n",
       "        vertical-align: middle;\n",
       "    }\n",
       "\n",
       "    .dataframe tbody tr th {\n",
       "        vertical-align: top;\n",
       "    }\n",
       "\n",
       "    .dataframe thead th {\n",
       "        text-align: right;\n",
       "    }\n",
       "</style>\n",
       "<table border=\"1\" class=\"dataframe\">\n",
       "  <thead>\n",
       "    <tr style=\"text-align: right;\">\n",
       "      <th></th>\n",
       "      <th>Pregnancies</th>\n",
       "      <th>Glucose</th>\n",
       "      <th>BloodPressure</th>\n",
       "      <th>SkinThickness</th>\n",
       "      <th>Insulin</th>\n",
       "      <th>BMI</th>\n",
       "      <th>DiabetesPedigreeFunction</th>\n",
       "      <th>Age</th>\n",
       "      <th>Outcome</th>\n",
       "    </tr>\n",
       "  </thead>\n",
       "  <tbody>\n",
       "    <tr>\n",
       "      <th>0</th>\n",
       "      <td>2</td>\n",
       "      <td>76</td>\n",
       "      <td>15</td>\n",
       "      <td>28</td>\n",
       "      <td>92</td>\n",
       "      <td>120</td>\n",
       "      <td>18</td>\n",
       "      <td>26</td>\n",
       "      <td>1</td>\n",
       "    </tr>\n",
       "    <tr>\n",
       "      <th>1</th>\n",
       "      <td>0</td>\n",
       "      <td>21</td>\n",
       "      <td>28</td>\n",
       "      <td>24</td>\n",
       "      <td>77</td>\n",
       "      <td>166</td>\n",
       "      <td>102</td>\n",
       "      <td>2</td>\n",
       "      <td>0</td>\n",
       "    </tr>\n",
       "    <tr>\n",
       "      <th>2</th>\n",
       "      <td>0</td>\n",
       "      <td>83</td>\n",
       "      <td>22</td>\n",
       "      <td>22</td>\n",
       "      <td>92</td>\n",
       "      <td>212</td>\n",
       "      <td>343</td>\n",
       "      <td>10</td>\n",
       "      <td>1</td>\n",
       "    </tr>\n",
       "    <tr>\n",
       "      <th>3</th>\n",
       "      <td>0</td>\n",
       "      <td>73</td>\n",
       "      <td>19</td>\n",
       "      <td>35</td>\n",
       "      <td>134</td>\n",
       "      <td>199</td>\n",
       "      <td>203</td>\n",
       "      <td>3</td>\n",
       "      <td>1</td>\n",
       "    </tr>\n",
       "    <tr>\n",
       "      <th>4</th>\n",
       "      <td>1</td>\n",
       "      <td>77</td>\n",
       "      <td>15</td>\n",
       "      <td>34</td>\n",
       "      <td>172</td>\n",
       "      <td>188</td>\n",
       "      <td>298</td>\n",
       "      <td>0</td>\n",
       "      <td>0</td>\n",
       "    </tr>\n",
       "    <tr>\n",
       "      <th>...</th>\n",
       "      <td>...</td>\n",
       "      <td>...</td>\n",
       "      <td>...</td>\n",
       "      <td>...</td>\n",
       "      <td>...</td>\n",
       "      <td>...</td>\n",
       "      <td>...</td>\n",
       "      <td>...</td>\n",
       "      <td>...</td>\n",
       "    </tr>\n",
       "    <tr>\n",
       "      <th>1995</th>\n",
       "      <td>2</td>\n",
       "      <td>12</td>\n",
       "      <td>16</td>\n",
       "      <td>16</td>\n",
       "      <td>26</td>\n",
       "      <td>88</td>\n",
       "      <td>206</td>\n",
       "      <td>12</td>\n",
       "      <td>0</td>\n",
       "    </tr>\n",
       "    <tr>\n",
       "      <th>1996</th>\n",
       "      <td>8</td>\n",
       "      <td>117</td>\n",
       "      <td>21</td>\n",
       "      <td>35</td>\n",
       "      <td>82</td>\n",
       "      <td>113</td>\n",
       "      <td>380</td>\n",
       "      <td>15</td>\n",
       "      <td>1</td>\n",
       "    </tr>\n",
       "    <tr>\n",
       "      <th>1997</th>\n",
       "      <td>6</td>\n",
       "      <td>22</td>\n",
       "      <td>26</td>\n",
       "      <td>22</td>\n",
       "      <td>92</td>\n",
       "      <td>101</td>\n",
       "      <td>214</td>\n",
       "      <td>21</td>\n",
       "      <td>0</td>\n",
       "    </tr>\n",
       "    <tr>\n",
       "      <th>1998</th>\n",
       "      <td>0</td>\n",
       "      <td>67</td>\n",
       "      <td>44</td>\n",
       "      <td>39</td>\n",
       "      <td>82</td>\n",
       "      <td>245</td>\n",
       "      <td>170</td>\n",
       "      <td>5</td>\n",
       "      <td>1</td>\n",
       "    </tr>\n",
       "    <tr>\n",
       "      <th>1999</th>\n",
       "      <td>2</td>\n",
       "      <td>18</td>\n",
       "      <td>21</td>\n",
       "      <td>7</td>\n",
       "      <td>45</td>\n",
       "      <td>92</td>\n",
       "      <td>303</td>\n",
       "      <td>4</td>\n",
       "      <td>0</td>\n",
       "    </tr>\n",
       "  </tbody>\n",
       "</table>\n",
       "<p>2000 rows × 9 columns</p>\n",
       "</div>"
      ],
      "text/plain": [
       "      Pregnancies  Glucose  BloodPressure  SkinThickness  Insulin  BMI  \\\n",
       "0               2       76             15             28       92  120   \n",
       "1               0       21             28             24       77  166   \n",
       "2               0       83             22             22       92  212   \n",
       "3               0       73             19             35      134  199   \n",
       "4               1       77             15             34      172  188   \n",
       "...           ...      ...            ...            ...      ...  ...   \n",
       "1995            2       12             16             16       26   88   \n",
       "1996            8      117             21             35       82  113   \n",
       "1997            6       22             26             22       92  101   \n",
       "1998            0       67             44             39       82  245   \n",
       "1999            2       18             21              7       45   92   \n",
       "\n",
       "      DiabetesPedigreeFunction  Age  Outcome  \n",
       "0                           18   26        1  \n",
       "1                          102    2        0  \n",
       "2                          343   10        1  \n",
       "3                          203    3        1  \n",
       "4                          298    0        0  \n",
       "...                        ...  ...      ...  \n",
       "1995                       206   12        0  \n",
       "1996                       380   15        1  \n",
       "1997                       214   21        0  \n",
       "1998                       170    5        1  \n",
       "1999                       303    4        0  \n",
       "\n",
       "[2000 rows x 9 columns]"
      ]
     },
     "execution_count": 24,
     "metadata": {},
     "output_type": "execute_result"
    }
   ],
   "source": [
    "dataTransform"
   ]
  },
  {
   "cell_type": "code",
   "execution_count": 25,
   "metadata": {},
   "outputs": [],
   "source": [
    "X = dataTransform.drop(['Outcome'], axis=1)"
   ]
  },
  {
   "cell_type": "code",
   "execution_count": 26,
   "metadata": {},
   "outputs": [
    {
     "ename": "NameError",
     "evalue": "name 'x' is not defined",
     "output_type": "error",
     "traceback": [
      "\u001b[1;31m---------------------------------------------------------------------------\u001b[0m",
      "\u001b[1;31mNameError\u001b[0m                                 Traceback (most recent call last)",
      "\u001b[1;32m<ipython-input-26-6fcf9dfbd479>\u001b[0m in \u001b[0;36m<module>\u001b[1;34m\u001b[0m\n\u001b[1;32m----> 1\u001b[1;33m \u001b[0mx\u001b[0m\u001b[1;33m\u001b[0m\u001b[1;33m\u001b[0m\u001b[0m\n\u001b[0m",
      "\u001b[1;31mNameError\u001b[0m: name 'x' is not defined"
     ]
    }
   ],
   "source": [
    "x"
   ]
  },
  {
   "cell_type": "code",
   "execution_count": 27,
   "metadata": {},
   "outputs": [
    {
     "data": {
      "text/html": [
       "<div>\n",
       "<style scoped>\n",
       "    .dataframe tbody tr th:only-of-type {\n",
       "        vertical-align: middle;\n",
       "    }\n",
       "\n",
       "    .dataframe tbody tr th {\n",
       "        vertical-align: top;\n",
       "    }\n",
       "\n",
       "    .dataframe thead th {\n",
       "        text-align: right;\n",
       "    }\n",
       "</style>\n",
       "<table border=\"1\" class=\"dataframe\">\n",
       "  <thead>\n",
       "    <tr style=\"text-align: right;\">\n",
       "      <th></th>\n",
       "      <th>Pregnancies</th>\n",
       "      <th>Glucose</th>\n",
       "      <th>BloodPressure</th>\n",
       "      <th>SkinThickness</th>\n",
       "      <th>Insulin</th>\n",
       "      <th>BMI</th>\n",
       "      <th>DiabetesPedigreeFunction</th>\n",
       "      <th>Age</th>\n",
       "    </tr>\n",
       "  </thead>\n",
       "  <tbody>\n",
       "    <tr>\n",
       "      <th>0</th>\n",
       "      <td>2</td>\n",
       "      <td>76</td>\n",
       "      <td>15</td>\n",
       "      <td>28</td>\n",
       "      <td>92</td>\n",
       "      <td>120</td>\n",
       "      <td>18</td>\n",
       "      <td>26</td>\n",
       "    </tr>\n",
       "    <tr>\n",
       "      <th>1</th>\n",
       "      <td>0</td>\n",
       "      <td>21</td>\n",
       "      <td>28</td>\n",
       "      <td>24</td>\n",
       "      <td>77</td>\n",
       "      <td>166</td>\n",
       "      <td>102</td>\n",
       "      <td>2</td>\n",
       "    </tr>\n",
       "    <tr>\n",
       "      <th>2</th>\n",
       "      <td>0</td>\n",
       "      <td>83</td>\n",
       "      <td>22</td>\n",
       "      <td>22</td>\n",
       "      <td>92</td>\n",
       "      <td>212</td>\n",
       "      <td>343</td>\n",
       "      <td>10</td>\n",
       "    </tr>\n",
       "    <tr>\n",
       "      <th>3</th>\n",
       "      <td>0</td>\n",
       "      <td>73</td>\n",
       "      <td>19</td>\n",
       "      <td>35</td>\n",
       "      <td>134</td>\n",
       "      <td>199</td>\n",
       "      <td>203</td>\n",
       "      <td>3</td>\n",
       "    </tr>\n",
       "    <tr>\n",
       "      <th>4</th>\n",
       "      <td>1</td>\n",
       "      <td>77</td>\n",
       "      <td>15</td>\n",
       "      <td>34</td>\n",
       "      <td>172</td>\n",
       "      <td>188</td>\n",
       "      <td>298</td>\n",
       "      <td>0</td>\n",
       "    </tr>\n",
       "    <tr>\n",
       "      <th>...</th>\n",
       "      <td>...</td>\n",
       "      <td>...</td>\n",
       "      <td>...</td>\n",
       "      <td>...</td>\n",
       "      <td>...</td>\n",
       "      <td>...</td>\n",
       "      <td>...</td>\n",
       "      <td>...</td>\n",
       "    </tr>\n",
       "    <tr>\n",
       "      <th>1995</th>\n",
       "      <td>2</td>\n",
       "      <td>12</td>\n",
       "      <td>16</td>\n",
       "      <td>16</td>\n",
       "      <td>26</td>\n",
       "      <td>88</td>\n",
       "      <td>206</td>\n",
       "      <td>12</td>\n",
       "    </tr>\n",
       "    <tr>\n",
       "      <th>1996</th>\n",
       "      <td>8</td>\n",
       "      <td>117</td>\n",
       "      <td>21</td>\n",
       "      <td>35</td>\n",
       "      <td>82</td>\n",
       "      <td>113</td>\n",
       "      <td>380</td>\n",
       "      <td>15</td>\n",
       "    </tr>\n",
       "    <tr>\n",
       "      <th>1997</th>\n",
       "      <td>6</td>\n",
       "      <td>22</td>\n",
       "      <td>26</td>\n",
       "      <td>22</td>\n",
       "      <td>92</td>\n",
       "      <td>101</td>\n",
       "      <td>214</td>\n",
       "      <td>21</td>\n",
       "    </tr>\n",
       "    <tr>\n",
       "      <th>1998</th>\n",
       "      <td>0</td>\n",
       "      <td>67</td>\n",
       "      <td>44</td>\n",
       "      <td>39</td>\n",
       "      <td>82</td>\n",
       "      <td>245</td>\n",
       "      <td>170</td>\n",
       "      <td>5</td>\n",
       "    </tr>\n",
       "    <tr>\n",
       "      <th>1999</th>\n",
       "      <td>2</td>\n",
       "      <td>18</td>\n",
       "      <td>21</td>\n",
       "      <td>7</td>\n",
       "      <td>45</td>\n",
       "      <td>92</td>\n",
       "      <td>303</td>\n",
       "      <td>4</td>\n",
       "    </tr>\n",
       "  </tbody>\n",
       "</table>\n",
       "<p>2000 rows × 8 columns</p>\n",
       "</div>"
      ],
      "text/plain": [
       "      Pregnancies  Glucose  BloodPressure  SkinThickness  Insulin  BMI  \\\n",
       "0               2       76             15             28       92  120   \n",
       "1               0       21             28             24       77  166   \n",
       "2               0       83             22             22       92  212   \n",
       "3               0       73             19             35      134  199   \n",
       "4               1       77             15             34      172  188   \n",
       "...           ...      ...            ...            ...      ...  ...   \n",
       "1995            2       12             16             16       26   88   \n",
       "1996            8      117             21             35       82  113   \n",
       "1997            6       22             26             22       92  101   \n",
       "1998            0       67             44             39       82  245   \n",
       "1999            2       18             21              7       45   92   \n",
       "\n",
       "      DiabetesPedigreeFunction  Age  \n",
       "0                           18   26  \n",
       "1                          102    2  \n",
       "2                          343   10  \n",
       "3                          203    3  \n",
       "4                          298    0  \n",
       "...                        ...  ...  \n",
       "1995                       206   12  \n",
       "1996                       380   15  \n",
       "1997                       214   21  \n",
       "1998                       170    5  \n",
       "1999                       303    4  \n",
       "\n",
       "[2000 rows x 8 columns]"
      ]
     },
     "execution_count": 27,
     "metadata": {},
     "output_type": "execute_result"
    }
   ],
   "source": [
    "X"
   ]
  },
  {
   "cell_type": "code",
   "execution_count": 28,
   "metadata": {},
   "outputs": [],
   "source": [
    "Y = dataTransform['Outcome']"
   ]
  },
  {
   "cell_type": "code",
   "execution_count": 29,
   "metadata": {},
   "outputs": [
    {
     "data": {
      "text/plain": [
       "0       1\n",
       "1       0\n",
       "2       1\n",
       "3       1\n",
       "4       0\n",
       "       ..\n",
       "1995    0\n",
       "1996    1\n",
       "1997    0\n",
       "1998    1\n",
       "1999    0\n",
       "Name: Outcome, Length: 2000, dtype: int64"
      ]
     },
     "execution_count": 29,
     "metadata": {},
     "output_type": "execute_result"
    }
   ],
   "source": [
    "Y"
   ]
  },
  {
   "cell_type": "code",
   "execution_count": 30,
   "metadata": {},
   "outputs": [],
   "source": [
    "diabetes_feature_list = list(X.columns)"
   ]
  },
  {
   "cell_type": "code",
   "execution_count": 31,
   "metadata": {},
   "outputs": [
    {
     "data": {
      "text/plain": [
       "['Pregnancies',\n",
       " 'Glucose',\n",
       " 'BloodPressure',\n",
       " 'SkinThickness',\n",
       " 'Insulin',\n",
       " 'BMI',\n",
       " 'DiabetesPedigreeFunction',\n",
       " 'Age']"
      ]
     },
     "execution_count": 31,
     "metadata": {},
     "output_type": "execute_result"
    }
   ],
   "source": [
    "diabetes_feature_list"
   ]
  },
  {
   "cell_type": "code",
   "execution_count": 32,
   "metadata": {},
   "outputs": [],
   "source": [
    "from sklearn.model_selection import train_test_split"
   ]
  },
  {
   "cell_type": "code",
   "execution_count": 33,
   "metadata": {},
   "outputs": [
    {
     "ename": "SyntaxError",
     "evalue": "can't assign to operator (<ipython-input-33-2deca8a4dcd6>, line 1)",
     "output_type": "error",
     "traceback": [
      "\u001b[1;36m  File \u001b[1;32m\"<ipython-input-33-2deca8a4dcd6>\"\u001b[1;36m, line \u001b[1;32m1\u001b[0m\n\u001b[1;33m    X_train, X-test, Y_train, Y_test = train_test_split(X,Y,test_size = 0.2, random_state = 41)\u001b[0m\n\u001b[1;37m                                                                                               ^\u001b[0m\n\u001b[1;31mSyntaxError\u001b[0m\u001b[1;31m:\u001b[0m can't assign to operator\n"
     ]
    }
   ],
   "source": [
    "X_train, X-test, Y_train,Y_test = train_test_split(X,Y,test_size = 0.2,random_state = 41)"
   ]
  },
  {
   "cell_type": "code",
   "execution_count": 34,
   "metadata": {},
   "outputs": [
    {
     "ename": "SyntaxError",
     "evalue": "can't assign to operator (<ipython-input-34-ff55d12d5d16>, line 1)",
     "output_type": "error",
     "traceback": [
      "\u001b[1;36m  File \u001b[1;32m\"<ipython-input-34-ff55d12d5d16>\"\u001b[1;36m, line \u001b[1;32m1\u001b[0m\n\u001b[1;33m    X_train, X-test, Y_train,Y_test = train_test_split(X,Y,test_size = 0.2,random_state = 41)\u001b[0m\n\u001b[1;37m                                                                                             ^\u001b[0m\n\u001b[1;31mSyntaxError\u001b[0m\u001b[1;31m:\u001b[0m can't assign to operator\n"
     ]
    }
   ],
   "source": [
    "X_train, X_test, Y_train,Y_test = train_test_split(X,Y,test_size = 0.2,random_state = 41)"
   ]
  },
  {
   "cell_type": "code",
   "execution_count": 35,
   "metadata": {},
   "outputs": [],
   "source": [
    "X_train, X_test, Y_train,Y_test = train_test_split(X,Y,test_size = 0.2,random_state = 41)"
   ]
  },
  {
   "cell_type": "code",
   "execution_count": 36,
   "metadata": {},
   "outputs": [
    {
     "data": {
      "text/html": [
       "<div>\n",
       "<style scoped>\n",
       "    .dataframe tbody tr th:only-of-type {\n",
       "        vertical-align: middle;\n",
       "    }\n",
       "\n",
       "    .dataframe tbody tr th {\n",
       "        vertical-align: top;\n",
       "    }\n",
       "\n",
       "    .dataframe thead th {\n",
       "        text-align: right;\n",
       "    }\n",
       "</style>\n",
       "<table border=\"1\" class=\"dataframe\">\n",
       "  <thead>\n",
       "    <tr style=\"text-align: right;\">\n",
       "      <th></th>\n",
       "      <th>Pregnancies</th>\n",
       "      <th>Glucose</th>\n",
       "      <th>BloodPressure</th>\n",
       "      <th>SkinThickness</th>\n",
       "      <th>Insulin</th>\n",
       "      <th>BMI</th>\n",
       "      <th>DiabetesPedigreeFunction</th>\n",
       "      <th>Age</th>\n",
       "    </tr>\n",
       "  </thead>\n",
       "  <tbody>\n",
       "    <tr>\n",
       "      <th>1519</th>\n",
       "      <td>9</td>\n",
       "      <td>57</td>\n",
       "      <td>21</td>\n",
       "      <td>14</td>\n",
       "      <td>27</td>\n",
       "      <td>10</td>\n",
       "      <td>389</td>\n",
       "      <td>27</td>\n",
       "    </tr>\n",
       "    <tr>\n",
       "      <th>1068</th>\n",
       "      <td>3</td>\n",
       "      <td>112</td>\n",
       "      <td>12</td>\n",
       "      <td>14</td>\n",
       "      <td>118</td>\n",
       "      <td>115</td>\n",
       "      <td>325</td>\n",
       "      <td>15</td>\n",
       "    </tr>\n",
       "    <tr>\n",
       "      <th>631</th>\n",
       "      <td>0</td>\n",
       "      <td>39</td>\n",
       "      <td>26</td>\n",
       "      <td>33</td>\n",
       "      <td>58</td>\n",
       "      <td>129</td>\n",
       "      <td>107</td>\n",
       "      <td>3</td>\n",
       "    </tr>\n",
       "    <tr>\n",
       "      <th>508</th>\n",
       "      <td>2</td>\n",
       "      <td>21</td>\n",
       "      <td>7</td>\n",
       "      <td>15</td>\n",
       "      <td>45</td>\n",
       "      <td>95</td>\n",
       "      <td>454</td>\n",
       "      <td>0</td>\n",
       "    </tr>\n",
       "    <tr>\n",
       "      <th>1006</th>\n",
       "      <td>4</td>\n",
       "      <td>126</td>\n",
       "      <td>44</td>\n",
       "      <td>24</td>\n",
       "      <td>92</td>\n",
       "      <td>78</td>\n",
       "      <td>363</td>\n",
       "      <td>16</td>\n",
       "    </tr>\n",
       "    <tr>\n",
       "      <th>...</th>\n",
       "      <td>...</td>\n",
       "      <td>...</td>\n",
       "      <td>...</td>\n",
       "      <td>...</td>\n",
       "      <td>...</td>\n",
       "      <td>...</td>\n",
       "      <td>...</td>\n",
       "      <td>...</td>\n",
       "    </tr>\n",
       "    <tr>\n",
       "      <th>321</th>\n",
       "      <td>3</td>\n",
       "      <td>49</td>\n",
       "      <td>23</td>\n",
       "      <td>23</td>\n",
       "      <td>92</td>\n",
       "      <td>103</td>\n",
       "      <td>76</td>\n",
       "      <td>4</td>\n",
       "    </tr>\n",
       "    <tr>\n",
       "      <th>1104</th>\n",
       "      <td>0</td>\n",
       "      <td>117</td>\n",
       "      <td>7</td>\n",
       "      <td>29</td>\n",
       "      <td>96</td>\n",
       "      <td>162</td>\n",
       "      <td>259</td>\n",
       "      <td>1</td>\n",
       "    </tr>\n",
       "    <tr>\n",
       "      <th>1932</th>\n",
       "      <td>8</td>\n",
       "      <td>93</td>\n",
       "      <td>15</td>\n",
       "      <td>18</td>\n",
       "      <td>174</td>\n",
       "      <td>124</td>\n",
       "      <td>301</td>\n",
       "      <td>25</td>\n",
       "    </tr>\n",
       "    <tr>\n",
       "      <th>931</th>\n",
       "      <td>1</td>\n",
       "      <td>8</td>\n",
       "      <td>15</td>\n",
       "      <td>22</td>\n",
       "      <td>92</td>\n",
       "      <td>15</td>\n",
       "      <td>235</td>\n",
       "      <td>5</td>\n",
       "    </tr>\n",
       "    <tr>\n",
       "      <th>1984</th>\n",
       "      <td>2</td>\n",
       "      <td>37</td>\n",
       "      <td>16</td>\n",
       "      <td>15</td>\n",
       "      <td>92</td>\n",
       "      <td>88</td>\n",
       "      <td>205</td>\n",
       "      <td>0</td>\n",
       "    </tr>\n",
       "  </tbody>\n",
       "</table>\n",
       "<p>1600 rows × 8 columns</p>\n",
       "</div>"
      ],
      "text/plain": [
       "      Pregnancies  Glucose  BloodPressure  SkinThickness  Insulin  BMI  \\\n",
       "1519            9       57             21             14       27   10   \n",
       "1068            3      112             12             14      118  115   \n",
       "631             0       39             26             33       58  129   \n",
       "508             2       21              7             15       45   95   \n",
       "1006            4      126             44             24       92   78   \n",
       "...           ...      ...            ...            ...      ...  ...   \n",
       "321             3       49             23             23       92  103   \n",
       "1104            0      117              7             29       96  162   \n",
       "1932            8       93             15             18      174  124   \n",
       "931             1        8             15             22       92   15   \n",
       "1984            2       37             16             15       92   88   \n",
       "\n",
       "      DiabetesPedigreeFunction  Age  \n",
       "1519                       389   27  \n",
       "1068                       325   15  \n",
       "631                        107    3  \n",
       "508                        454    0  \n",
       "1006                       363   16  \n",
       "...                        ...  ...  \n",
       "321                         76    4  \n",
       "1104                       259    1  \n",
       "1932                       301   25  \n",
       "931                        235    5  \n",
       "1984                       205    0  \n",
       "\n",
       "[1600 rows x 8 columns]"
      ]
     },
     "execution_count": 36,
     "metadata": {},
     "output_type": "execute_result"
    }
   ],
   "source": [
    "X_train"
   ]
  },
  {
   "cell_type": "code",
   "execution_count": 37,
   "metadata": {},
   "outputs": [
    {
     "data": {
      "text/html": [
       "<div>\n",
       "<style scoped>\n",
       "    .dataframe tbody tr th:only-of-type {\n",
       "        vertical-align: middle;\n",
       "    }\n",
       "\n",
       "    .dataframe tbody tr th {\n",
       "        vertical-align: top;\n",
       "    }\n",
       "\n",
       "    .dataframe thead th {\n",
       "        text-align: right;\n",
       "    }\n",
       "</style>\n",
       "<table border=\"1\" class=\"dataframe\">\n",
       "  <thead>\n",
       "    <tr style=\"text-align: right;\">\n",
       "      <th></th>\n",
       "      <th>Pregnancies</th>\n",
       "      <th>Glucose</th>\n",
       "      <th>BloodPressure</th>\n",
       "      <th>SkinThickness</th>\n",
       "      <th>Insulin</th>\n",
       "      <th>BMI</th>\n",
       "      <th>DiabetesPedigreeFunction</th>\n",
       "      <th>Age</th>\n",
       "    </tr>\n",
       "  </thead>\n",
       "  <tbody>\n",
       "    <tr>\n",
       "      <th>751</th>\n",
       "      <td>1</td>\n",
       "      <td>58</td>\n",
       "      <td>26</td>\n",
       "      <td>32</td>\n",
       "      <td>43</td>\n",
       "      <td>174</td>\n",
       "      <td>128</td>\n",
       "      <td>7</td>\n",
       "    </tr>\n",
       "    <tr>\n",
       "      <th>1545</th>\n",
       "      <td>1</td>\n",
       "      <td>77</td>\n",
       "      <td>15</td>\n",
       "      <td>34</td>\n",
       "      <td>172</td>\n",
       "      <td>188</td>\n",
       "      <td>298</td>\n",
       "      <td>0</td>\n",
       "    </tr>\n",
       "    <tr>\n",
       "      <th>881</th>\n",
       "      <td>1</td>\n",
       "      <td>49</td>\n",
       "      <td>21</td>\n",
       "      <td>23</td>\n",
       "      <td>105</td>\n",
       "      <td>128</td>\n",
       "      <td>295</td>\n",
       "      <td>4</td>\n",
       "    </tr>\n",
       "    <tr>\n",
       "      <th>396</th>\n",
       "      <td>3</td>\n",
       "      <td>33</td>\n",
       "      <td>11</td>\n",
       "      <td>27</td>\n",
       "      <td>72</td>\n",
       "      <td>42</td>\n",
       "      <td>447</td>\n",
       "      <td>18</td>\n",
       "    </tr>\n",
       "    <tr>\n",
       "      <th>509</th>\n",
       "      <td>8</td>\n",
       "      <td>57</td>\n",
       "      <td>26</td>\n",
       "      <td>22</td>\n",
       "      <td>92</td>\n",
       "      <td>45</td>\n",
       "      <td>231</td>\n",
       "      <td>43</td>\n",
       "    </tr>\n",
       "    <tr>\n",
       "      <th>...</th>\n",
       "      <td>...</td>\n",
       "      <td>...</td>\n",
       "      <td>...</td>\n",
       "      <td>...</td>\n",
       "      <td>...</td>\n",
       "      <td>...</td>\n",
       "      <td>...</td>\n",
       "      <td>...</td>\n",
       "    </tr>\n",
       "    <tr>\n",
       "      <th>1518</th>\n",
       "      <td>9</td>\n",
       "      <td>72</td>\n",
       "      <td>23</td>\n",
       "      <td>26</td>\n",
       "      <td>31</td>\n",
       "      <td>53</td>\n",
       "      <td>261</td>\n",
       "      <td>51</td>\n",
       "    </tr>\n",
       "    <tr>\n",
       "      <th>1398</th>\n",
       "      <td>1</td>\n",
       "      <td>28</td>\n",
       "      <td>16</td>\n",
       "      <td>16</td>\n",
       "      <td>92</td>\n",
       "      <td>84</td>\n",
       "      <td>73</td>\n",
       "      <td>0</td>\n",
       "    </tr>\n",
       "    <tr>\n",
       "      <th>1091</th>\n",
       "      <td>10</td>\n",
       "      <td>29</td>\n",
       "      <td>15</td>\n",
       "      <td>22</td>\n",
       "      <td>92</td>\n",
       "      <td>53</td>\n",
       "      <td>54</td>\n",
       "      <td>10</td>\n",
       "    </tr>\n",
       "    <tr>\n",
       "      <th>1390</th>\n",
       "      <td>1</td>\n",
       "      <td>16</td>\n",
       "      <td>27</td>\n",
       "      <td>17</td>\n",
       "      <td>10</td>\n",
       "      <td>49</td>\n",
       "      <td>320</td>\n",
       "      <td>1</td>\n",
       "    </tr>\n",
       "    <tr>\n",
       "      <th>783</th>\n",
       "      <td>3</td>\n",
       "      <td>50</td>\n",
       "      <td>7</td>\n",
       "      <td>2</td>\n",
       "      <td>53</td>\n",
       "      <td>86</td>\n",
       "      <td>341</td>\n",
       "      <td>4</td>\n",
       "    </tr>\n",
       "  </tbody>\n",
       "</table>\n",
       "<p>400 rows × 8 columns</p>\n",
       "</div>"
      ],
      "text/plain": [
       "      Pregnancies  Glucose  BloodPressure  SkinThickness  Insulin  BMI  \\\n",
       "751             1       58             26             32       43  174   \n",
       "1545            1       77             15             34      172  188   \n",
       "881             1       49             21             23      105  128   \n",
       "396             3       33             11             27       72   42   \n",
       "509             8       57             26             22       92   45   \n",
       "...           ...      ...            ...            ...      ...  ...   \n",
       "1518            9       72             23             26       31   53   \n",
       "1398            1       28             16             16       92   84   \n",
       "1091           10       29             15             22       92   53   \n",
       "1390            1       16             27             17       10   49   \n",
       "783             3       50              7              2       53   86   \n",
       "\n",
       "      DiabetesPedigreeFunction  Age  \n",
       "751                        128    7  \n",
       "1545                       298    0  \n",
       "881                        295    4  \n",
       "396                        447   18  \n",
       "509                        231   43  \n",
       "...                        ...  ...  \n",
       "1518                       261   51  \n",
       "1398                        73    0  \n",
       "1091                        54   10  \n",
       "1390                       320    1  \n",
       "783                        341    4  \n",
       "\n",
       "[400 rows x 8 columns]"
      ]
     },
     "execution_count": 37,
     "metadata": {},
     "output_type": "execute_result"
    }
   ],
   "source": [
    "X_test"
   ]
  },
  {
   "cell_type": "code",
   "execution_count": 38,
   "metadata": {},
   "outputs": [
    {
     "data": {
      "text/plain": [
       "1519    0\n",
       "1068    1\n",
       "631     0\n",
       "508     0\n",
       "1006    0\n",
       "       ..\n",
       "321     1\n",
       "1104    1\n",
       "1932    1\n",
       "931     0\n",
       "1984    0\n",
       "Name: Outcome, Length: 1600, dtype: int64"
      ]
     },
     "execution_count": 38,
     "metadata": {},
     "output_type": "execute_result"
    }
   ],
   "source": [
    "Y_train"
   ]
  },
  {
   "cell_type": "code",
   "execution_count": 39,
   "metadata": {},
   "outputs": [
    {
     "data": {
      "text/plain": [
       "751     0\n",
       "1545    0\n",
       "881     0\n",
       "396     0\n",
       "509     0\n",
       "       ..\n",
       "1518    0\n",
       "1398    0\n",
       "1091    0\n",
       "1390    0\n",
       "783     0\n",
       "Name: Outcome, Length: 400, dtype: int64"
      ]
     },
     "execution_count": 39,
     "metadata": {},
     "output_type": "execute_result"
    }
   ],
   "source": [
    "Y_test"
   ]
  },
  {
   "cell_type": "code",
   "execution_count": 40,
   "metadata": {},
   "outputs": [
    {
     "data": {
      "text/plain": [
       "(1600, 8)"
      ]
     },
     "execution_count": 40,
     "metadata": {},
     "output_type": "execute_result"
    }
   ],
   "source": [
    "X_train.shape"
   ]
  },
  {
   "cell_type": "code",
   "execution_count": 41,
   "metadata": {},
   "outputs": [
    {
     "data": {
      "text/plain": [
       "(1600,)"
      ]
     },
     "execution_count": 41,
     "metadata": {},
     "output_type": "execute_result"
    }
   ],
   "source": [
    "Y_train.shape"
   ]
  },
  {
   "cell_type": "code",
   "execution_count": 42,
   "metadata": {},
   "outputs": [],
   "source": [
    "from sklearn.ensemble import RandomForestClassifier"
   ]
  },
  {
   "cell_type": "code",
   "execution_count": 43,
   "metadata": {},
   "outputs": [],
   "source": [
    "randomforestclassifier = RandomForestClassifier(n_estimators = 1200)"
   ]
  },
  {
   "cell_type": "code",
   "execution_count": 44,
   "metadata": {},
   "outputs": [
    {
     "data": {
      "text/plain": [
       "RandomForestClassifier(bootstrap=True, ccp_alpha=0.0, class_weight=None,\n",
       "                       criterion='gini', max_depth=None, max_features='auto',\n",
       "                       max_leaf_nodes=None, max_samples=None,\n",
       "                       min_impurity_decrease=0.0, min_impurity_split=None,\n",
       "                       min_samples_leaf=1, min_samples_split=2,\n",
       "                       min_weight_fraction_leaf=0.0, n_estimators=1200,\n",
       "                       n_jobs=None, oob_score=False, random_state=None,\n",
       "                       verbose=0, warm_start=False)"
      ]
     },
     "execution_count": 44,
     "metadata": {},
     "output_type": "execute_result"
    }
   ],
   "source": [
    "randomforestclassifier.fit(X_train, Y_train)"
   ]
  },
  {
   "cell_type": "code",
   "execution_count": 45,
   "metadata": {},
   "outputs": [],
   "source": [
    "prediction_y = randomforestclassifier.predict(X_test)"
   ]
  },
  {
   "cell_type": "code",
   "execution_count": 46,
   "metadata": {},
   "outputs": [
    {
     "data": {
      "text/plain": [
       "array([0, 0, 0, 0, 0, 0, 0, 0, 0, 0, 1, 0, 1, 0, 0, 1, 0, 1, 1, 0, 0, 0,\n",
       "       0, 1, 1, 0, 1, 0, 1, 1, 0, 1, 0, 0, 0, 0, 1, 0, 0, 0, 0, 0, 0, 0,\n",
       "       1, 0, 1, 0, 0, 0, 0, 1, 0, 0, 1, 1, 1, 0, 1, 1, 0, 0, 1, 0, 0, 0,\n",
       "       1, 1, 0, 1, 0, 1, 0, 0, 0, 0, 0, 1, 0, 1, 1, 0, 0, 0, 1, 1, 0, 0,\n",
       "       0, 0, 0, 1, 0, 0, 0, 0, 1, 0, 0, 0, 0, 0, 1, 1, 0, 1, 0, 0, 0, 0,\n",
       "       0, 1, 0, 0, 0, 1, 0, 1, 0, 0, 0, 0, 0, 0, 0, 1, 0, 0, 0, 1, 1, 1,\n",
       "       0, 1, 0, 0, 0, 0, 0, 0, 0, 0, 0, 0, 1, 0, 0, 1, 0, 1, 0, 0, 0, 0,\n",
       "       0, 1, 0, 0, 0, 0, 0, 0, 0, 0, 0, 1, 0, 0, 0, 1, 0, 0, 0, 0, 0, 1,\n",
       "       0, 0, 0, 1, 0, 1, 1, 0, 0, 0, 0, 0, 0, 1, 1, 0, 0, 1, 1, 0, 1, 1,\n",
       "       0, 0, 0, 0, 1, 0, 0, 0, 1, 1, 0, 0, 0, 0, 0, 0, 1, 1, 0, 0, 1, 1,\n",
       "       0, 0, 0, 1, 0, 0, 1, 1, 0, 0, 1, 1, 1, 0, 0, 0, 1, 1, 1, 0, 0, 0,\n",
       "       1, 0, 0, 0, 0, 0, 0, 1, 1, 1, 0, 0, 1, 0, 1, 1, 0, 1, 0, 1, 0, 1,\n",
       "       0, 1, 1, 0, 0, 0, 0, 0, 0, 0, 0, 0, 1, 1, 0, 0, 1, 0, 1, 0, 1, 0,\n",
       "       0, 0, 0, 0, 0, 1, 0, 1, 0, 0, 0, 1, 1, 0, 0, 1, 0, 1, 0, 1, 0, 0,\n",
       "       0, 0, 0, 0, 1, 1, 1, 0, 0, 1, 0, 0, 0, 1, 1, 0, 0, 0, 0, 0, 1, 1,\n",
       "       0, 0, 0, 1, 1, 0, 0, 0, 1, 0, 1, 0, 1, 1, 1, 0, 0, 1, 0, 0, 0, 1,\n",
       "       0, 0, 0, 1, 1, 0, 0, 0, 0, 0, 0, 1, 1, 0, 1, 0, 1, 1, 1, 0, 1, 1,\n",
       "       0, 1, 1, 0, 0, 0, 0, 0, 0, 1, 0, 1, 0, 0, 0, 1, 0, 0, 0, 0, 1, 0,\n",
       "       0, 0, 0, 0], dtype=int64)"
      ]
     },
     "execution_count": 46,
     "metadata": {},
     "output_type": "execute_result"
    }
   ],
   "source": [
    "prediction_y"
   ]
  },
  {
   "cell_type": "code",
   "execution_count": 47,
   "metadata": {},
   "outputs": [
    {
     "name": "stdout",
     "output_type": "stream",
     "text": [
      "Accuracy score is: 0.995\n"
     ]
    }
   ],
   "source": [
    "experiment_accuracy = sm.accuracy_score(Y_test ,prediction_y )\n",
    "print(\"Accuracy score is:\",str(experiment_accuracy))"
   ]
  },
  {
   "cell_type": "code",
   "execution_count": 48,
   "metadata": {},
   "outputs": [],
   "source": [
    "from sklearn import metrics"
   ]
  },
  {
   "cell_type": "code",
   "execution_count": 49,
   "metadata": {},
   "outputs": [
    {
     "ename": "NameError",
     "evalue": "name 'metrices' is not defined",
     "output_type": "error",
     "traceback": [
      "\u001b[1;31m---------------------------------------------------------------------------\u001b[0m",
      "\u001b[1;31mNameError\u001b[0m                                 Traceback (most recent call last)",
      "\u001b[1;32m<ipython-input-49-2ccefa456bfb>\u001b[0m in \u001b[0;36m<module>\u001b[1;34m\u001b[0m\n\u001b[1;32m----> 1\u001b[1;33m \u001b[0mprint\u001b[0m\u001b[1;33m(\u001b[0m\u001b[1;34m\"Classification Report :\"\u001b[0m \u001b[1;33m,\u001b[0m \u001b[0mmetrices\u001b[0m\u001b[1;33m.\u001b[0m\u001b[0mclassification_report\u001b[0m\u001b[1;33m(\u001b[0m\u001b[0mprediction_y\u001b[0m\u001b[1;33m,\u001b[0m \u001b[0mY_test\u001b[0m\u001b[1;33m,\u001b[0m \u001b[0mtarget_names\u001b[0m \u001b[1;33m=\u001b[0m\u001b[1;33m[\u001b[0m\u001b[1;34m\"Diabetes\"\u001b[0m\u001b[1;33m,\u001b[0m\u001b[1;34m\"No Diabetes\"\u001b[0m\u001b[1;33m]\u001b[0m\u001b[1;33m)\u001b[0m\u001b[1;33m)\u001b[0m\u001b[1;33m\u001b[0m\u001b[1;33m\u001b[0m\u001b[0m\n\u001b[0m",
      "\u001b[1;31mNameError\u001b[0m: name 'metrices' is not defined"
     ]
    }
   ],
   "source": [
    "print(\"Classification Report :\" , metrices.classification_report(prediction_y, Y_test, target_names =[\"Diabetes\",\"No Diabetes\"]))"
   ]
  },
  {
   "cell_type": "code",
   "execution_count": 50,
   "metadata": {},
   "outputs": [
    {
     "name": "stdout",
     "output_type": "stream",
     "text": [
      "Classification Report :               precision    recall  f1-score   support\n",
      "\n",
      "    Diabetes       1.00      0.99      1.00       268\n",
      " No Diabetes       0.99      1.00      0.99       132\n",
      "\n",
      "    accuracy                           0.99       400\n",
      "   macro avg       0.99      1.00      0.99       400\n",
      "weighted avg       1.00      0.99      1.00       400\n",
      "\n"
     ]
    }
   ],
   "source": [
    "print(\"Classification Report :\" , metrics.classification_report(prediction_y, Y_test, target_names =[\"Diabetes\",\"No Diabetes\"]))"
   ]
  },
  {
   "cell_type": "code",
   "execution_count": 51,
   "metadata": {},
   "outputs": [],
   "source": [
    "from sklearn.metrics import confusion_matrix"
   ]
  },
  {
   "cell_type": "code",
   "execution_count": 52,
   "metadata": {},
   "outputs": [],
   "source": [
    "import seaborn as sb"
   ]
  },
  {
   "cell_type": "code",
   "execution_count": 53,
   "metadata": {},
   "outputs": [],
   "source": [
    "sb.set()"
   ]
  },
  {
   "cell_type": "code",
   "execution_count": 54,
   "metadata": {},
   "outputs": [
    {
     "name": "stderr",
     "output_type": "stream",
     "text": [
      "UsageError: Line magic function `%matpotlib` not found.\n"
     ]
    }
   ],
   "source": [
    "get_ipython().run_line_magic('matplotlib','inline')"
   ]
  },
  {
   "cell_type": "code",
   "execution_count": 55,
   "metadata": {},
   "outputs": [],
   "source": [
    "get_ipython().run_line_magic('matplotlib','inline')"
   ]
  },
  {
   "cell_type": "code",
   "execution_count": 56,
   "metadata": {},
   "outputs": [],
   "source": [
    "import matplotlib.pyplot as pt"
   ]
  },
  {
   "cell_type": "code",
   "execution_count": 57,
   "metadata": {},
   "outputs": [
    {
     "ename": "SyntaxError",
     "evalue": "invalid syntax (<ipython-input-57-c24a7d450be5>, line 1)",
     "output_type": "error",
     "traceback": [
      "\u001b[1;36m  File \u001b[1;32m\"<ipython-input-57-c24a7d450be5>\"\u001b[1;36m, line \u001b[1;32m1\u001b[0m\n\u001b[1;33m    confusionmt = confusion _matrix(Y_test , prediction_y)\u001b[0m\n\u001b[1;37m                                  ^\u001b[0m\n\u001b[1;31mSyntaxError\u001b[0m\u001b[1;31m:\u001b[0m invalid syntax\n"
     ]
    }
   ],
   "source": [
    "confusionmt = confusion_matrix(Y_test , prediction_y)"
   ]
  },
  {
   "cell_type": "code",
   "execution_count": 58,
   "metadata": {},
   "outputs": [],
   "source": [
    "confusionmt = confusion_matrix(Y_test , prediction_y)"
   ]
  },
  {
   "cell_type": "code",
   "execution_count": 59,
   "metadata": {},
   "outputs": [
    {
     "data": {
      "text/plain": [
       "<matplotlib.axes._subplots.AxesSubplot at 0x280fdb3cc48>"
      ]
     },
     "execution_count": 59,
     "metadata": {},
     "output_type": "execute_result"
    },
    {
     "data": {
      "image/png": "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\n",
      "text/plain": [
       "<Figure size 432x288 with 1 Axes>"
      ]
     },
     "metadata": {
      "needs_background": "light"
     },
     "output_type": "display_data"
    }
   ],
   "source": [
    "sb.heatmap(confusionmt.T,square = True , annot= True, fmt = 'd', cbar = False )"
   ]
  },
  {
   "cell_type": "code",
   "execution_count": 60,
   "metadata": {},
   "outputs": [
    {
     "data": {
      "text/plain": [
       "Text(89.18, 0.5, 'predicted class axis')"
      ]
     },
     "execution_count": 60,
     "metadata": {},
     "output_type": "execute_result"
    },
    {
     "data": {
      "image/png": "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\n",
      "text/plain": [
       "<Figure size 432x288 with 1 Axes>"
      ]
     },
     "metadata": {
      "needs_background": "light"
     },
     "output_type": "display_data"
    }
   ],
   "source": [
    "sb.heatmap(confusionmt.T,square = True , annot= True, fmt = 'd', cbar = False )\n",
    "pt.xlabel('true class axis')\n",
    "pt.ylabel('predicted class axis')"
   ]
  },
  {
   "cell_type": "code",
   "execution_count": null,
   "metadata": {},
   "outputs": [],
   "source": []
  }
 ],
 "metadata": {
  "kernelspec": {
   "display_name": "Python 3",
   "language": "python",
   "name": "python3"
  },
  "language_info": {
   "codemirror_mode": {
    "name": "ipython",
    "version": 3
   },
   "file_extension": ".py",
   "mimetype": "text/x-python",
   "name": "python",
   "nbconvert_exporter": "python",
   "pygments_lexer": "ipython3",
   "version": "3.7.6"
  }
 },
 "nbformat": 4,
 "nbformat_minor": 4
}
